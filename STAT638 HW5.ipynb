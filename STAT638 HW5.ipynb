{
 "metadata": {
  "name": ""
 },
 "nbformat": 3,
 "nbformat_minor": 0,
 "worksheets": [
  {
   "cells": [
    {
     "cell_type": "code",
     "collapsed": false,
     "input": [
      "%matplotlib inline\n",
      "\n",
      "import numpy as np\n",
      "import scipy as sci\n",
      "import scipy.stats as st\n",
      "import matplotlib.pyplot as plt \n",
      "import operator\n",
      "\n",
      "%config InlineBackend.figure_format = 'svg'"
     ],
     "language": "python",
     "metadata": {},
     "outputs": [],
     "prompt_number": 1
    },
    {
     "cell_type": "markdown",
     "metadata": {},
     "source": [
      "# Question 6.1 \n",
      "\n",
      "$ \\theta_A = \\theta $\n",
      "\n",
      "$ \\theta_B = \\theta \\ \\gamma $ \n",
      "\n",
      "where $gamma = \\theta_B/\\theta_A$ \n",
      "\n",
      "$ \\theta \\sim gamma(a_{\\theta}, b_{\\theta}) $ and $ \\gamma \\sim gamma(a_{\\gamma}, b_{\\gamma}) $ \n",
      "\n",
      "$ p(\\theta) \\propto \\theta^{a_{\\theta}-1} e^{-b_{\\theta} \\theta} \\ \\gamma^{a_{\\gamma}-1} e^{-b_{\\gamma} \\gamma} $ \n",
      "\n",
      "$ \\frac{\\partial \\theta}{ \\partial \\theta_A} = 1, \\frac{\\partial \\theta}{ \\partial \\theta_B} = 0,\n",
      "\\frac{\\partial \\gamma}{ \\partial \\theta_A} = 0, \\frac{\\partial \\gamma}{ \\partial \\theta_B} = 1/\\theta_A$ \n",
      "Hence the $det(J) = 1/\\theta_A $\n",
      "\n",
      "Applying coordinate transformation, \n",
      "\n",
      "$p(\\theta_A, \\theta_B) = \\theta_A^{a_{\\theta}-1} e^{-b_{\\theta} \\theta} \\ (\\theta_B/\\theta_A)^{a_{\\gamma}-1} e^{-b_{\\gamma} \\theta_B/\\theta_A} 1/\\theta_A  $ \n",
      "\n",
      "$p(\\theta_A, \\theta_B) = \\theta_A^{a_{\\theta} - a_{\\gamma}-1} e^{-b_{\\theta} \\theta} \\ \\theta_B^{a_{\\gamma}-1} e^{-b_{\\gamma}\\theta_B/\\theta_A} $ \n",
      "\n",
      "Here this cannot be separated as functions of $\\theta_A$ and $\\theta_B$. Hence they are not independent. \n",
      "\n",
      "If $\\theta_A$ and $\\gamma$ are independent for the problem, then it is a reasonable prior. \n",
      "\n",
      "\n",
      "For $\\theta_A$, \n",
      "\n",
      "$p(\\sum y_A | \\theta) \\propto \\theta^{54} e^{-58 \\theta}$\n",
      "\n",
      "For $\\theta_B$, \n",
      "\n",
      "$p(\\sum y_B | \\theta\\gamma) \\propto (\\theta \\gamma)^{305} e^{-218 \\theta}$ \n",
      "\n",
      "Hence \n",
      "\n",
      "$ p(\\theta, \\gamma | y_A, y_B)  \\propto \\theta^{54} e^{-58 \\theta} (\\theta \\gamma)^{305} e^{-218 \\theta} \\theta^{a_{\\theta}-1} e^{-b_{\\theta} \\theta} \\ \\gamma^{a_{\\gamma}-1} e^{-b_{\\gamma} \\gamma} $\n",
      "\n",
      "So $p(\\theta | \\gamma, y_A, y_B) \\propto \\theta^{359+a_{\\theta}-1} e^{-\\theta (58 + 218 \\gamma + b_{\\theta})}$ \n",
      "\n",
      "which is $ gamma(359+a_{\\theta}, 58+218\\gamma+b_{\\theta})$\n",
      "\n",
      "$p(\\gamma | \\theta, y_A, y_B) \\propto \\gamma^{305+a_{\\gamma}-1} e^{-\\gamma (218 \\theta + b_{\\gamma})} $ \n",
      "\n",
      "which is $ gamma(305+a_{\\gamma}, 218\\theta+b_{\\gamma})$"
     ]
    },
    {
     "cell_type": "code",
     "collapsed": false,
     "input": [
      "at, bt = 2., 1.\n",
      "ag, bg = 8.,8.\n",
      "\n",
      "c = [8., 16., 32., 64., 128.]\n",
      "\n",
      "thetaA = [0. for i in range(0,5000)]\n",
      "thetaB = [0. for i in range(0,5000)]\n",
      "theta = [0. for i in range(0,5000)]\n",
      "gamma = [0. for i in range(0,5000)]\n",
      "\n",
      "tBminustA = [0. for i in range(0,5000)]\n",
      "\n",
      "print \" \"\n",
      "for j in range(0,5):\n",
      "    ag, bg = c[j], c[j]\n",
      "    for i in range(1, 5000):\n",
      "        a1 = 305. + ag\n",
      "        b1 = 218*theta[i-1] + bg\n",
      "        gamma[i] = st.gamma.rvs(a1,  scale = 1.0/b1)\n",
      "        a1 = 359. + at\n",
      "        b1 = 58. + 218.*gamma[i] + bt\n",
      "        theta[i] = st.gamma.rvs(a1,  scale = 1.0/b1)\n",
      "        #\n",
      "        thetaA[i] = theta[i]\n",
      "        thetaB[i] = theta[i]*gamma[i]\n",
      "        tBminustA[i] = thetaB[i] - thetaA[i]\n",
      "        \n",
      "    print \"For ag = bg =\", c[j],\",\" \n",
      "    print \"Expectation =\", sum(tBminustA)/len(tBminustA)\n",
      "    print \"C.I. is =\", np.percentile(tBminustA, [2.5, 97.5])\n",
      "    print \" \""
     ],
     "language": "python",
     "metadata": {},
     "outputs": [
      {
       "output_type": "stream",
       "stream": "stdout",
       "text": [
        " \n",
        "For ag = bg ="
       ]
      },
      {
       "output_type": "stream",
       "stream": "stdout",
       "text": [
        " 8.0 ,\n",
        "Expectation = 0.388366839164\n",
        "C.I. is = [0.10754503446330166, 0.65532756002539305]\n",
        " \n",
        "For ag = bg ="
       ]
      },
      {
       "output_type": "stream",
       "stream": "stdout",
       "text": [
        " 16.0 ,\n",
        "Expectation = 0.338723083712\n",
        "C.I. is = [0.066693842703969164, 0.58991387111089288]\n",
        " \n",
        "For ag = bg ="
       ]
      },
      {
       "output_type": "stream",
       "stream": "stdout",
       "text": [
        " 32.0 ,\n",
        "Expectation = 0.271058354705\n",
        "C.I. is = [0.026058229009026105, 0.4951453524130372]\n",
        " \n",
        "For ag = bg ="
       ]
      },
      {
       "output_type": "stream",
       "stream": "stdout",
       "text": [
        " 64.0 ,\n",
        "Expectation = 0.202604958039\n",
        "C.I. is = [-0.01333508765394323, 0.40082113942405856]\n",
        " \n",
        "For ag = bg ="
       ]
      },
      {
       "output_type": "stream",
       "stream": "stdout",
       "text": [
        " 128.0 ,\n",
        "Expectation = 0.12950265262\n",
        "C.I. is = [-0.041341075780852325, 0.29856239202476997]\n",
        " \n"
       ]
      }
     ],
     "prompt_number": 2
    },
    {
     "cell_type": "markdown",
     "metadata": {},
     "source": [
      "$\\theta_A$ gets close  to $\\theta_B$ as $c$ increases. C.I. gets narrow. This is as expected since large value of $c$ means prior suggest thatthere is no difference. "
     ]
    },
    {
     "cell_type": "markdown",
     "metadata": {},
     "source": [
      "# Question 7.1\n",
      "\n",
      "$ p_J(\\theta, \\Sigma) \\propto |\\Sigma|^{-(p+2)/2} $ \n",
      "\n",
      "$p_J$ is not a function of $\\theta$. So the area under the curve is infinite. Hence, it cannot be a probability density. \n",
      "\n",
      "$ p_J(y_1, y_2, ..., y_n | \\theta, \\Sigma) \\propto |\\Sigma|^{-n/2} exp\\{  -1/2 \\sum\\limits_{i=1}^{n} (y_i - \\theta)^{T} \\Sigma^{-1} (y_i - \\theta) \\} $\n",
      "\n",
      "$ p_J(\\theta, \\Sigma | y_1, y_2, ..., y_n ) \\propto p_J(\\theta, \\Sigma) p_J(y_1, y_2, ..., y_n | \\theta, \\Sigma) $\n",
      "\n",
      "So $ p_J(\\theta, \\Sigma | y_1, y_2, ..., y_n ) \\propto |\\Sigma|^{-(p+2)/2} |\\Sigma|^{-n/2} exp\\{  -1/2 \\sum\\limits_{i=1}^{n} (y_i - \\theta)^{T} \\Sigma^{-1} (y_i - \\theta) \\} $\n",
      "\n",
      "$ p_J(\\theta | \\Sigma, y_1, y_2, ..., y_n ) \\propto exp\\{  -1/2 \\sum\\limits_{i=1}^{n} (y_i - \\theta)^{T} \\Sigma^{-1} (y_i - \\theta) \\} $ \n",
      "\n",
      "Using the standard trick, \n",
      "\n",
      "$ \\quad \\quad \\quad = exp\\{  -1/2 \\sum\\limits_{i=1}^{n} (y_i - \\bar{y} + \\bar{y}  - \\theta)^{T} \\Sigma^{-1} (y_i - \\bar{y}  + \\bar{y} - \\theta) \\} $ \n",
      "\n",
      "$ \\quad \\quad \\quad = exp\\{  -1/2 \\sum\\limits_{i=1}^{n} (y_i - \\bar{y})^{T} \\Sigma^{-1} (y_i - \\bar{y}) \\} \\\n",
      "exp\\{  -n/2 (\\bar{y}  - \\theta)^{T} \\Sigma^{-1} (\\bar{y} - \\theta) \\}$ \n",
      "\n",
      "which says $\\theta | \\Sigma, y_1, y_2, ..., y_n$ is $MVN(\\bar{y}, \\Sigma/n)$ \n",
      "\n",
      "$p_J(\\Sigma, y_1, y_2, ..., y_n )  = \\int p_J(\\theta, \\Sigma | y_1, y_2, ..., y_n ) d \\theta $ \n",
      "\n",
      "$ \\quad \\quad \\quad = \\int |\\Sigma|^{-(p+2)/2} |\\Sigma|^{-n/2} exp\\{  -1/2 \\sum\\limits_{i=1}^{n} (y_i - \\theta)^{T} \\Sigma^{-1} (y_i - \\theta) \\} \\ d\\theta\n",
      "$\n",
      "\n",
      "$ \\quad \\quad \\quad = \\int |\\Sigma|^{-(p+2)/2} |\\Sigma|^{-n/2} exp\\{  -1/2 \\sum\\limits_{i=1}^{n} (y_i - \\bar{y})^{T} \\Sigma^{-1} (y_i - \\bar{y}) \\} \\ exp\\{  -n/2 (\\bar{y}  - \\theta)^{T} \\Sigma^{-1} (\\bar{y} - \\theta) \\} \\ d\\theta$\n",
      "\n",
      "$\\int exp\\{  -n/2 (\\bar{y}  - \\theta)^{T} \\Sigma^{-1} (\\bar{y} - \\theta) \\} \\ d\\theta  \\propto |\\Sigma|^{1/2}$ \n",
      "\n",
      "$p_J(\\Sigma, y_1, y_2, ..., y_n ) \\propto |\\Sigma|^{-(p+2)/2} |\\Sigma|^{-n/2} |\\Sigma|^{1/2}exp\\{  -1/2 \\sum\\limits_{i=1}^{n} (y_i - \\bar{y})^{T} \\Sigma^{-1} (y_i - \\bar{y}) \\} $ \n",
      "\n",
      "which is inverse wishart distribution."
     ]
    },
    {
     "cell_type": "markdown",
     "metadata": {},
     "source": [
      "#Question Extra\n",
      "\n",
      "Let $Y$ be the $p \\times n$ data matrix with $i^{th}$ column $y_i$. The normal likelihood is, \n",
      "\n",
      "$ p(Y | \\theta, \\Sigma) \\propto 1/|\\Sigma|^{n/2} exp( -1/2 Q_n/2 ) $ \n",
      "\n",
      "where $ Q_n = \\sum\\limits_{i=1}^{n} \n",
      "tr \\left( (y_i - \\theta)^T \\Sigma^{-1} (y_i - \\theta) \\right) $ \n",
      "\n",
      "The prior distribution is\n",
      "\n",
      "$ p(\\theta, \\Sigma) \\propto |\\Sigma|^{-(\\nu_0 + p + 2)/2} exp \\left(  -1/2 tr(S_0 \\Sigma^{-1}) \\right) exp \\left( -\\tau_0/2 (\\theta - \\mu_0)^T \\Sigma^{-1} (\\theta - \\mu_0) \\right)$\n",
      "\n",
      "Posterior is $p(\\theta, \\Sigma | Y) \\propto p(Y | \\theta, \\Sigma) p(\\theta, \\Sigma)  $\n",
      "\n",
      "We have $tr(AB) = tr(BA)$, using which we get\n",
      "\n",
      "$Q_n = \\sum\\limits_{i=1}^{n} tr \\left( (y_i - \\theta) (y_i - \\theta)^T \\Sigma^{-1} \\right)  = tr \\left( \\left( \\sum\\limits_{i=1}^{n} (y_i - \\theta) (y_i - \\theta)^T  \\right) \\Sigma^{-1} \\right)  $ \n",
      " \n",
      "$\\quad \\quad \\quad = tr \\left( \\left( \\sum\\limits_{i=1}^{n} (y_i -\\bar{y} + \\bar{y} - \\theta) (y_i - \\bar{y} + \\bar{y} - \\theta)^T  \\right) \\Sigma^{-1} \\right)$ \n",
      "\n",
      "$\\quad \\quad \\quad = tr \\left( \\left( n S^2 +  n (\\bar{y} - \\theta) (\\bar{y} - \\theta)^T  \\right) \\Sigma^{-1} \\right)$ \n",
      "\n",
      "where $S^2 =  1/n \\sum\\limits_{i=1}^{n} (y_i - \\bar{y})(y_i - \\bar{y})^T $. \n",
      "\n",
      "So \n",
      "\n",
      "$p(\\theta, \\Sigma | Y) \\propto |\\Sigma|^{-(n + \\nu_0 + p + 2)/2} exp \\left(  -\\frac{1}{2} tr(  ( nS^2 + S_0 )\\Sigma^{-1}) \\right) $ \n",
      "\n",
      "$\\quad \\quad \\quad \\quad \\times exp \\left( -\\frac{1}{2} tr\\left( (n(\\theta - \\bar{y})(\\theta - \\bar{y})^T + \\tau_0 (\\theta - \\mu_0)(\\theta - \\mu_0)^T) \\Sigma^{-1} \\right) \\right)$\n"
     ]
    }
   ],
   "metadata": {}
  }
 ]
}